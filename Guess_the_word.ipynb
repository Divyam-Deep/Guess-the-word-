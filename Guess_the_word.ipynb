{
  "nbformat": 4,
  "nbformat_minor": 0,
  "metadata": {
    "colab": {
      "provenance": [],
      "authorship_tag": "ABX9TyP2yI0ll1akU1w3zqhZ64eL",
      "include_colab_link": true
    },
    "kernelspec": {
      "name": "python3",
      "display_name": "Python 3"
    },
    "language_info": {
      "name": "python"
    }
  },
  "cells": [
    {
      "cell_type": "markdown",
      "metadata": {
        "id": "view-in-github",
        "colab_type": "text"
      },
      "source": [
        "<a href=\"https://colab.research.google.com/github/Divyam-Deep/Guess-the-word-/blob/main/Guess_the_word.ipynb\" target=\"_parent\"><img src=\"https://colab.research.google.com/assets/colab-badge.svg\" alt=\"Open In Colab\"/></a>"
      ]
    },
    {
      "cell_type": "code",
      "execution_count": 38,
      "metadata": {
        "id": "YpCS3sY6Peb1"
      },
      "outputs": [],
      "source": [
        "import gensim.downloader as api\n",
        "from gensim.models import Word2Vec\n",
        "import numpy as np\n",
        "from sklearn.metrics.pairwise import cosine_similarity\n",
        "from IPython.display import clear_output\n",
        "import random\n",
        "import time"
      ]
    },
    {
      "cell_type": "code",
      "source": [
        "# Function to load Word2Vec model with retries\n",
        "def load_word2vec_model(model_name, retries=3, wait_time=5):\n",
        "    for attempt in range(retries):\n",
        "        try:\n",
        "            wv = api.load(model_name)\n",
        "            return wv\n",
        "        except Exception as e:\n",
        "            print(f\"Attempt {attempt+1} failed: {e}\")\n",
        "            if attempt < retries - 1:\n",
        "                print(f\"Retrying in {wait_time} seconds...\")\n",
        "                time.sleep(wait_time)\n",
        "    # Fallback to a smaller model if retries are exhausted\n",
        "    print(\"Falling back to a smaller model: glove-wiki-gigaword-50\")\n",
        "    return api.load('glove-wiki-gigaword-50')\n"
      ],
      "metadata": {
        "id": "xqDb56l2Pgro"
      },
      "execution_count": 39,
      "outputs": []
    },
    {
      "cell_type": "code",
      "source": [
        "# Load pre-trained Word2Vec model\n",
        "wv = load_word2vec_model('word2vec-google-news-300')\n"
      ],
      "metadata": {
        "id": "G0oEqjTLVNKc"
      },
      "execution_count": 40,
      "outputs": []
    },
    {
      "cell_type": "code",
      "source": [
        "# Predefined list of common words (for example, this can be expanded or refined)\n",
        "common_words = [\n",
        "    'time', 'person', 'year', 'way', 'day', 'thing', 'man', 'world', 'life', 'hand',\n",
        "    'part', 'child', 'eye', 'woman', 'place', 'work', 'week', 'case', 'point', 'government',\n",
        "    'company', 'number', 'group', 'problem', 'fact', 'apple', 'banana', 'orange', 'grape',\n",
        "    'breakfast', 'morning', 'evening', 'computer', 'science', 'music', 'school', 'teacher',\n",
        "    'student', 'friend', 'family', 'mother', 'father', 'brother', 'sister', 'house', 'car',\n",
        "    'city', 'country', 'water', 'food', 'dog', 'cat', 'mouse', 'bird', 'fish', 'tree', 'flower'\n",
        "]"
      ],
      "metadata": {
        "id": "Wce0N-06VRqL"
      },
      "execution_count": 41,
      "outputs": []
    },
    {
      "cell_type": "code",
      "source": [
        "# Filter words to ensure they are in the Word2Vec model\n",
        "filtered_common_words = [word for word in common_words if word in wv]\n"
      ],
      "metadata": {
        "id": "HsTQa0IiVnXD"
      },
      "execution_count": 42,
      "outputs": []
    },
    {
      "cell_type": "code",
      "source": [
        "# Function to generate a random word\n",
        "def generate_random_word():\n",
        "    return np.random.choice(filtered_common_words)\n"
      ],
      "metadata": {
        "id": "icTVYZ0WVrHL"
      },
      "execution_count": 43,
      "outputs": []
    },
    {
      "cell_type": "code",
      "source": [
        "# Function to compute similarity\n",
        "def compute_similarity(word1, word2):\n",
        "    if word1 in wv and word2 in wv:\n",
        "        vec1 = wv[word1].reshape(1, -1)\n",
        "        vec2 = wv[word2].reshape(1, -1)\n",
        "        similarity = cosine_similarity(vec1, vec2)\n",
        "        return similarity[0][0]\n",
        "    else:\n",
        "        return 0.0"
      ],
      "metadata": {
        "id": "v7fzoAclWCwq"
      },
      "execution_count": 44,
      "outputs": []
    },
    {
      "cell_type": "code",
      "source": [
        "# Function to find similar words\n",
        "def find_similar_words(word, topn=10):\n",
        "    if word in wv:\n",
        "        similar_words = wv.most_similar(word, topn=topn)\n",
        "        # Filter similar words to keep only those in the common words list\n",
        "        filtered_similar_words = [sim_word for sim_word, _ in similar_words if sim_word in filtered_common_words]\n",
        "        # If not enough similar words, use any available similar words from the model\n",
        "        if len(filtered_similar_words) < 3:\n",
        "            filtered_similar_words = [sim_word for sim_word, _ in similar_words]\n",
        "        return filtered_similar_words[:1]\n",
        "    else:\n",
        "        return []\n"
      ],
      "metadata": {
        "id": "-3fGHjkdWGbJ"
      },
      "execution_count": 55,
      "outputs": []
    },
    {
      "cell_type": "code",
      "source": [
        "# Function to create a hint sentence\n",
        "def create_hint_sentence(similar_words):\n",
        "    hints = \", \".join(similar_words[:3])\n",
        "    return f\"A word similar to this: {hints}\""
      ],
      "metadata": {
        "id": "KgwogGAzanI6"
      },
      "execution_count": 56,
      "outputs": []
    },
    {
      "cell_type": "code",
      "source": [
        "# Function to display similarity as a bar\n",
        "def display_similarity(attempts, similarities):\n",
        "    print(\"\\nGuesses and their similarities:\")\n",
        "    for attempt, sim in zip(attempts, similarities):\n",
        "        bar = '█' * int(sim * 50)\n",
        "        print(f\"{attempt}: {sim:.2f} {bar}\")"
      ],
      "metadata": {
        "id": "BobUfpSXapls"
      },
      "execution_count": 57,
      "outputs": []
    },
    {
      "cell_type": "code",
      "source": [
        "# def run_game_timer():\n",
        "#     start_time = time.time()\n",
        "#     while time.time() - start_time < 60:\n",
        "#         remaining_time = int(60 - (time.time() - start_time))\n",
        "#         clear_output(wait=True)\n",
        "#         print(f\"Time left: {remaining_time} seconds\")\n",
        "#         user_input = input(\"\\nEnter your guess (or type 'new' to start a new game, 'ans' or 'answer' to reveal the word): \").strip().lower()\n",
        "#         if user_input in [\"new\", \"n\", \"ans\", \"answer\"]:\n",
        "#             return user_input, True\n",
        "#     return None, False"
      ],
      "metadata": {
        "id": "Rn9ZHhgTkPJw"
      },
      "execution_count": 63,
      "outputs": []
    },
    {
      "cell_type": "code",
      "source": [
        "# Game logic\n",
        "def word_guessing_game():\n",
        "    while True:\n",
        "        generated_word = generate_random_word()\n",
        "        similar_words = find_similar_words(generated_word)\n",
        "        hint_sentence = create_hint_sentence(similar_words)\n",
        "\n",
        "        print(f\"\\nNew game started. Hint: The word has {len(generated_word)} letters.\")\n",
        "        print(hint_sentence)\n",
        "\n",
        "        attempts = []\n",
        "        similarities = []\n",
        "\n",
        "        while True:\n",
        "            user_input = input(\"\\nEnter your guess (or type 'new' to start a new game, 'ans' or 'answer' to reveal the word): \").strip().lower()\n",
        "            if user_input in [\"new\", \"n\"]:\n",
        "                break\n",
        "            elif user_input in [\"ans\", \"answer\"]:\n",
        "                print(f\"The word was: {generated_word}\")\n",
        "                break\n",
        "            elif user_input == generated_word:\n",
        "                print(\"Congratulations! You've guessed the correct word!\")\n",
        "                break\n",
        "\n",
        "            similarity = compute_similarity(user_input, generated_word)\n",
        "            attempts.append(user_input)\n",
        "            similarities.append(similarity)\n",
        "\n",
        "            clear_output(wait=True)\n",
        "            print(f\"Hint: The word has {len(generated_word)} letters.\")\n",
        "            print(hint_sentence)\n",
        "            display_similarity(attempts, similarities)\n",
        "\n",
        "        if user_input in [\"new\", \"n\", \"ans\", \"answer\"]:\n",
        "            continue"
      ],
      "metadata": {
        "id": "n2NxubJBarvi"
      },
      "execution_count": 68,
      "outputs": []
    },
    {
      "cell_type": "code",
      "source": [
        "# Run the game\n",
        "word_guessing_game()"
      ],
      "metadata": {
        "colab": {
          "base_uri": "https://localhost:8080/",
          "height": 914
        },
        "id": "y8hIy1Duau6e",
        "outputId": "ed3eed03-d3f5-4870-eb54-7c1d47b88aae"
      },
      "execution_count": 69,
      "outputs": [
        {
          "output_type": "stream",
          "name": "stdout",
          "text": [
            "Hint: The word has 6 letters.\n",
            "A word similar to this: someone\n",
            "\n",
            "Guesses and their similarities:\n",
            "random: 0.22 ███████████\n",
            "\n",
            "Enter your guess (or type 'new' to start a new game, 'ans' or 'answer' to reveal the word): ans\n",
            "The word was: person\n",
            "\n",
            "New game started. Hint: The word has 4 letters.\n",
            "A word similar to this: integral_part\n",
            "\n",
            "Enter your guess (or type 'new' to start a new game, 'ans' or 'answer' to reveal the word): ans\n",
            "The word was: part\n",
            "\n",
            "New game started. Hint: The word has 4 letters.\n",
            "A word similar to this: day\n",
            "\n",
            "Enter your guess (or type 'new' to start a new game, 'ans' or 'answer' to reveal the word): ans\n",
            "The word was: time\n",
            "\n",
            "New game started. Hint: The word has 7 letters.\n",
            "A word similar to this: afternoon\n",
            "\n",
            "Enter your guess (or type 'new' to start a new game, 'ans' or 'answer' to reveal the word): new\n",
            "\n",
            "New game started. Hint: The word has 6 letters.\n",
            "A word similar to this: elementary\n",
            "\n",
            "Enter your guess (or type 'new' to start a new game, 'ans' or 'answer' to reveal the word): new\n",
            "\n",
            "New game started. Hint: The word has 6 letters.\n",
            "A word similar to this: bananas\n"
          ]
        },
        {
          "output_type": "error",
          "ename": "KeyboardInterrupt",
          "evalue": "Interrupted by user",
          "traceback": [
            "\u001b[0;31m---------------------------------------------------------------------------\u001b[0m",
            "\u001b[0;31mKeyboardInterrupt\u001b[0m                         Traceback (most recent call last)",
            "\u001b[0;32m<ipython-input-69-8fd632b3785f>\u001b[0m in \u001b[0;36m<cell line: 2>\u001b[0;34m()\u001b[0m\n\u001b[1;32m      1\u001b[0m \u001b[0;31m# Run the game\u001b[0m\u001b[0;34m\u001b[0m\u001b[0;34m\u001b[0m\u001b[0m\n\u001b[0;32m----> 2\u001b[0;31m \u001b[0mword_guessing_game\u001b[0m\u001b[0;34m(\u001b[0m\u001b[0;34m)\u001b[0m\u001b[0;34m\u001b[0m\u001b[0;34m\u001b[0m\u001b[0m\n\u001b[0m",
            "\u001b[0;32m<ipython-input-68-5caa88706e3c>\u001b[0m in \u001b[0;36mword_guessing_game\u001b[0;34m()\u001b[0m\n\u001b[1;32m     13\u001b[0m \u001b[0;34m\u001b[0m\u001b[0m\n\u001b[1;32m     14\u001b[0m         \u001b[0;32mwhile\u001b[0m \u001b[0;32mTrue\u001b[0m\u001b[0;34m:\u001b[0m\u001b[0;34m\u001b[0m\u001b[0;34m\u001b[0m\u001b[0m\n\u001b[0;32m---> 15\u001b[0;31m             \u001b[0muser_input\u001b[0m \u001b[0;34m=\u001b[0m \u001b[0minput\u001b[0m\u001b[0;34m(\u001b[0m\u001b[0;34m\"\\nEnter your guess (or type 'new' to start a new game, 'ans' or 'answer' to reveal the word): \"\u001b[0m\u001b[0;34m)\u001b[0m\u001b[0;34m.\u001b[0m\u001b[0mstrip\u001b[0m\u001b[0;34m(\u001b[0m\u001b[0;34m)\u001b[0m\u001b[0;34m.\u001b[0m\u001b[0mlower\u001b[0m\u001b[0;34m(\u001b[0m\u001b[0;34m)\u001b[0m\u001b[0;34m\u001b[0m\u001b[0;34m\u001b[0m\u001b[0m\n\u001b[0m\u001b[1;32m     16\u001b[0m             \u001b[0;32mif\u001b[0m \u001b[0muser_input\u001b[0m \u001b[0;32min\u001b[0m \u001b[0;34m[\u001b[0m\u001b[0;34m\"new\"\u001b[0m\u001b[0;34m,\u001b[0m \u001b[0;34m\"n\"\u001b[0m\u001b[0;34m]\u001b[0m\u001b[0;34m:\u001b[0m\u001b[0;34m\u001b[0m\u001b[0;34m\u001b[0m\u001b[0m\n\u001b[1;32m     17\u001b[0m                 \u001b[0;32mbreak\u001b[0m\u001b[0;34m\u001b[0m\u001b[0;34m\u001b[0m\u001b[0m\n",
            "\u001b[0;32m/usr/local/lib/python3.10/dist-packages/ipykernel/kernelbase.py\u001b[0m in \u001b[0;36mraw_input\u001b[0;34m(self, prompt)\u001b[0m\n\u001b[1;32m    849\u001b[0m                 \u001b[0;34m\"raw_input was called, but this frontend does not support input requests.\"\u001b[0m\u001b[0;34m\u001b[0m\u001b[0;34m\u001b[0m\u001b[0m\n\u001b[1;32m    850\u001b[0m             )\n\u001b[0;32m--> 851\u001b[0;31m         return self._input_request(str(prompt),\n\u001b[0m\u001b[1;32m    852\u001b[0m             \u001b[0mself\u001b[0m\u001b[0;34m.\u001b[0m\u001b[0m_parent_ident\u001b[0m\u001b[0;34m,\u001b[0m\u001b[0;34m\u001b[0m\u001b[0;34m\u001b[0m\u001b[0m\n\u001b[1;32m    853\u001b[0m             \u001b[0mself\u001b[0m\u001b[0;34m.\u001b[0m\u001b[0m_parent_header\u001b[0m\u001b[0;34m,\u001b[0m\u001b[0;34m\u001b[0m\u001b[0;34m\u001b[0m\u001b[0m\n",
            "\u001b[0;32m/usr/local/lib/python3.10/dist-packages/ipykernel/kernelbase.py\u001b[0m in \u001b[0;36m_input_request\u001b[0;34m(self, prompt, ident, parent, password)\u001b[0m\n\u001b[1;32m    893\u001b[0m             \u001b[0;32mexcept\u001b[0m \u001b[0mKeyboardInterrupt\u001b[0m\u001b[0;34m:\u001b[0m\u001b[0;34m\u001b[0m\u001b[0;34m\u001b[0m\u001b[0m\n\u001b[1;32m    894\u001b[0m                 \u001b[0;31m# re-raise KeyboardInterrupt, to truncate traceback\u001b[0m\u001b[0;34m\u001b[0m\u001b[0;34m\u001b[0m\u001b[0m\n\u001b[0;32m--> 895\u001b[0;31m                 \u001b[0;32mraise\u001b[0m \u001b[0mKeyboardInterrupt\u001b[0m\u001b[0;34m(\u001b[0m\u001b[0;34m\"Interrupted by user\"\u001b[0m\u001b[0;34m)\u001b[0m \u001b[0;32mfrom\u001b[0m \u001b[0;32mNone\u001b[0m\u001b[0;34m\u001b[0m\u001b[0;34m\u001b[0m\u001b[0m\n\u001b[0m\u001b[1;32m    896\u001b[0m             \u001b[0;32mexcept\u001b[0m \u001b[0mException\u001b[0m \u001b[0;32mas\u001b[0m \u001b[0me\u001b[0m\u001b[0;34m:\u001b[0m\u001b[0;34m\u001b[0m\u001b[0;34m\u001b[0m\u001b[0m\n\u001b[1;32m    897\u001b[0m                 \u001b[0mself\u001b[0m\u001b[0;34m.\u001b[0m\u001b[0mlog\u001b[0m\u001b[0;34m.\u001b[0m\u001b[0mwarning\u001b[0m\u001b[0;34m(\u001b[0m\u001b[0;34m\"Invalid Message:\"\u001b[0m\u001b[0;34m,\u001b[0m \u001b[0mexc_info\u001b[0m\u001b[0;34m=\u001b[0m\u001b[0;32mTrue\u001b[0m\u001b[0;34m)\u001b[0m\u001b[0;34m\u001b[0m\u001b[0;34m\u001b[0m\u001b[0m\n",
            "\u001b[0;31mKeyboardInterrupt\u001b[0m: Interrupted by user"
          ]
        }
      ]
    },
    {
      "cell_type": "code",
      "source": [],
      "metadata": {
        "id": "7dnjnL1xaxOF"
      },
      "execution_count": null,
      "outputs": []
    }
  ]
}