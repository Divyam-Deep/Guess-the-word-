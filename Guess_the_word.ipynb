{
  "nbformat": 4,
  "nbformat_minor": 0,
  "metadata": {
    "colab": {
      "provenance": [],
      "authorship_tag": "ABX9TyM4bgsfEUGCBSjX3kIDx9cz",
      "include_colab_link": true
    },
    "kernelspec": {
      "name": "python3",
      "display_name": "Python 3"
    },
    "language_info": {
      "name": "python"
    }
  },
  "cells": [
    {
      "cell_type": "markdown",
      "metadata": {
        "id": "view-in-github",
        "colab_type": "text"
      },
      "source": [
        "<a href=\"https://colab.research.google.com/github/Divyam-Deep/Guess-the-word-/blob/main/Guess_the_word.ipynb\" target=\"_parent\"><img src=\"https://colab.research.google.com/assets/colab-badge.svg\" alt=\"Open In Colab\"/></a>"
      ]
    },
    {
      "cell_type": "code",
      "execution_count": 19,
      "metadata": {
        "id": "YpCS3sY6Peb1"
      },
      "outputs": [],
      "source": [
        "import gensim.downloader as api\n",
        "from gensim.models import Word2Vec\n",
        "import numpy as np\n",
        "from sklearn.metrics.pairwise import cosine_similarity\n",
        "from IPython.display import clear_output\n",
        "import random\n",
        "import time"
      ]
    },
    {
      "cell_type": "code",
      "source": [
        "# Function to load Word2Vec model with retries\n",
        "def load_word2vec_model(model_name, retries=3, wait_time=5):\n",
        "    for attempt in range(retries):\n",
        "        try:\n",
        "            wv = api.load(model_name)\n",
        "            return wv\n",
        "        except Exception as e:\n",
        "            print(f\"Attempt {attempt+1} failed: {e}\")\n",
        "            if attempt < retries - 1:\n",
        "                print(f\"Retrying in {wait_time} seconds...\")\n",
        "                time.sleep(wait_time)\n",
        "    # Fallback to a smaller model if retries are exhausted\n",
        "    print(\"Falling back to a smaller model: glove-wiki-gigaword-50\")\n",
        "    return api.load('glove-wiki-gigaword-50')\n"
      ],
      "metadata": {
        "id": "xqDb56l2Pgro"
      },
      "execution_count": 20,
      "outputs": []
    },
    {
      "cell_type": "code",
      "source": [
        "# Load pre-trained Word2Vec model\n",
        "wv = load_word2vec_model('word2vec-google-news-300')\n"
      ],
      "metadata": {
        "id": "G0oEqjTLVNKc"
      },
      "execution_count": 21,
      "outputs": []
    },
    {
      "cell_type": "code",
      "source": [
        "# Predefined list of common words (for example, this can be expanded or refined)\n",
        "common_words = [\n",
        "    'time', 'person', 'year', 'way', 'day', 'thing', 'man', 'world', 'life', 'hand',\n",
        "    'part', 'child', 'eye', 'woman', 'place', 'work', 'week', 'case', 'point', 'government',\n",
        "    'company', 'number', 'group', 'problem', 'fact', 'apple', 'banana', 'orange', 'grape',\n",
        "    'breakfast', 'morning', 'evening', 'computer', 'science', 'music', 'school', 'teacher',\n",
        "    'student', 'friend', 'family', 'mother', 'father', 'brother', 'sister', 'house', 'car',\n",
        "    'city', 'country', 'water', 'food', 'dog', 'cat', 'mouse', 'bird', 'fish', 'tree', 'flower'\n",
        "]"
      ],
      "metadata": {
        "id": "Wce0N-06VRqL"
      },
      "execution_count": 22,
      "outputs": []
    },
    {
      "cell_type": "code",
      "source": [
        "# Filter words to ensure they are in the Word2Vec model\n",
        "filtered_common_words = [word for word in common_words if word in wv]\n"
      ],
      "metadata": {
        "id": "HsTQa0IiVnXD"
      },
      "execution_count": 23,
      "outputs": []
    },
    {
      "cell_type": "code",
      "source": [
        "# Function to generate a random word\n",
        "def generate_random_word():\n",
        "    return np.random.choice(filtered_common_words)\n"
      ],
      "metadata": {
        "id": "icTVYZ0WVrHL"
      },
      "execution_count": 24,
      "outputs": []
    },
    {
      "cell_type": "code",
      "source": [
        "# Function to compute similarity\n",
        "def compute_similarity(word1, word2):\n",
        "    if word1 in wv and word2 in wv:\n",
        "        vec1 = wv[word1].reshape(1, -1)\n",
        "        vec2 = wv[word2].reshape(1, -1)\n",
        "        similarity = cosine_similarity(vec1, vec2)\n",
        "        return similarity[0][0]\n",
        "    else:\n",
        "        return 0.0"
      ],
      "metadata": {
        "id": "v7fzoAclWCwq"
      },
      "execution_count": 25,
      "outputs": []
    },
    {
      "cell_type": "code",
      "source": [
        "# Function to find similar words, synonyms, or antonyms\n",
        "def find_similar_words(word, topn=10):\n",
        "    if word in wv:\n",
        "        similar_words = wv.most_similar(word, topn=topn)\n",
        "        # Filter similar words to keep only those in the filtered_common_words list\n",
        "        filtered_similar_words = [sim_word for sim_word, _ in similar_words if sim_word in filtered_common_words]\n",
        "\n",
        "        suggested_words = []\n",
        "\n",
        "        # Collect up to 2 most similar words, synonyms, or antonyms\n",
        "        for sim_word in filtered_similar_words:\n",
        "            if sim_word != word:\n",
        "                suggested_words.append(sim_word)\n",
        "            if len(suggested_words) >= 2:\n",
        "                break\n",
        "\n",
        "        # If fewer than 2 words are found, add random common words\n",
        "        while len(suggested_words) < 2:\n",
        "            random_word = generate_random_word()\n",
        "            if random_word not in suggested_words and random_word != word:\n",
        "                suggested_words.append(random_word)\n",
        "\n",
        "        return suggested_words[:2]  # Return up to 2 suggested words\n",
        "    else:\n",
        "        # If word is not in the Word2Vec model, return an empty list\n",
        "        return []\n"
      ],
      "metadata": {
        "id": "-3fGHjkdWGbJ"
      },
      "execution_count": 26,
      "outputs": []
    },
    {
      "cell_type": "code",
      "source": [
        "# Function to create a hint sentence\n",
        "def create_hint_sentence(similar_words):\n",
        "    hints = \", \".join(similar_words[:2])\n",
        "    return f\"A word similar to this: {hints}\""
      ],
      "metadata": {
        "id": "KgwogGAzanI6"
      },
      "execution_count": 27,
      "outputs": []
    },
    {
      "cell_type": "code",
      "source": [
        "# Function to display similarity as a bar\n",
        "def display_similarity(attempts, similarities):\n",
        "    print(\"\\nGuesses and their similarities:\")\n",
        "    for attempt, sim in zip(attempts, similarities):\n",
        "        bar = '█' * int(sim * 50)\n",
        "        print(f\"{attempt}: {sim:.2f} {bar}\")"
      ],
      "metadata": {
        "id": "BobUfpSXapls"
      },
      "execution_count": 28,
      "outputs": []
    },
    {
      "cell_type": "code",
      "source": [
        "# def run_game_timer():\n",
        "#     start_time = time.time()\n",
        "#     while time.time() - start_time < 60:\n",
        "#         remaining_time = int(60 - (time.time() - start_time))\n",
        "#         clear_output(wait=True)\n",
        "#         print(f\"Time left: {remaining_time} seconds\")\n",
        "#         user_input = input(\"\\nEnter your guess (or type 'new' to start a new game, 'ans' or 'answer' to reveal the word): \").strip().lower()\n",
        "#         if user_input in [\"new\", \"n\", \"ans\", \"answer\"]:\n",
        "#             return user_input, True\n",
        "#     return None, False"
      ],
      "metadata": {
        "id": "Rn9ZHhgTkPJw"
      },
      "execution_count": 29,
      "outputs": []
    },
    {
      "cell_type": "code",
      "source": [
        "# Game logic\n",
        "def word_guessing_game():\n",
        "    score = 0\n",
        "    while True:\n",
        "        generated_word = generate_random_word()\n",
        "        similar_words = find_similar_words(generated_word)\n",
        "        hint_sentence = create_hint_sentence(similar_words)\n",
        "        print('Rules: \\nYou Have Three Attempts to guess the word\\ntype new to start a new game \\nans to reveal the word')\n",
        "        print(f\"\\nGame started. \\nHint: The word has {len(generated_word)} letters.\")\n",
        "        print(hint_sentence)\n",
        "\n",
        "        attempts = []\n",
        "        similarities = []\n",
        "\n",
        "        attempts_left = 3 # Number of attempts allowed\n",
        "        while attempts_left > 0:\n",
        "            user_input = input(\"\\nEnter your guess: \").strip().lower()\n",
        "            if user_input in [\"new\", \"n\"]:\n",
        "                break\n",
        "            elif user_input in [\"ans\", \"answer\"]:\n",
        "                break\n",
        "            elif user_input == generated_word:\n",
        "                print(\"Congratulations! You've guessed the correct word!\")\n",
        "                score += 10  # Increase score for correct guess\n",
        "                break\n",
        "\n",
        "            similarity = compute_similarity(user_input, generated_word)\n",
        "            attempts.append(user_input)\n",
        "            similarities.append(similarity)\n",
        "            attempts_left -= 1\n",
        "\n",
        "            clear_output(wait=True)\n",
        "            print(f\"Hint: The word has {len(generated_word)} letters.\")\n",
        "            print(hint_sentence)\n",
        "            display_similarity(attempts, similarities)\n",
        "            if attempts_left > 0:\n",
        "               print(f\"Attempts Left: {(attempts_left)}\")\n",
        "            else:\n",
        "               continue\n",
        "\n",
        "\n",
        "        if user_input == generated_word:\n",
        "            print(f\"Your Current Score: {score}\")\n",
        "\n",
        "        elif user_input in [\"new\", \"n\"]:\n",
        "            print(f\"Sorry, you did not guess the word. The correct word was: {generated_word}\")\n",
        "            print(f\"Your Final Score: {score}\")\n",
        "            play_again = input(\"\\nDo you want to play again? (yes/no): \").strip().lower()\n",
        "            if play_again != \"yes\":\n",
        "                break  # Exit the game loop\n",
        "            score = 0  # Reset score for a new game\n",
        "            clear_output(wait=True)\n",
        "        else:\n",
        "            print(f\"Sorry, you did not guess the word. The correct word was: {generated_word}\")\n",
        "            print(f\"Your Final Score: {score}\")\n",
        "            play_again = input(\"\\nDo you want to play again? (yes/no): \").strip().lower()\n",
        "            if play_again != \"yes\":\n",
        "                break  # Exit the game loop\n",
        "            score = 0  # Reset score for a new game\n",
        "            clear_output(wait=True)\n",
        ""
      ],
      "metadata": {
        "id": "n2NxubJBarvi"
      },
      "execution_count": 30,
      "outputs": []
    },
    {
      "cell_type": "code",
      "source": [
        "# Run the game\n",
        "word_guessing_game()"
      ],
      "metadata": {
        "colab": {
          "base_uri": "https://localhost:8080/"
        },
        "id": "y8hIy1Duau6e",
        "outputId": "187d1c72-5c77-498a-b86b-1c831bf7ec5d"
      },
      "execution_count": 31,
      "outputs": [
        {
          "name": "stdout",
          "output_type": "stream",
          "text": [
            "Hint: The word has 6 letters.\n",
            "A word similar to this: person, life\n",
            "\n",
            "Guesses and their similarities:\n",
            "alive: 0.04 ██\n",
            "Attempts Left: 2\n",
            "\n",
            "Enter your guess: ans\n",
            "Sorry, you did not guess the word. The correct word was: orange\n",
            "Your Final Score: 0\n",
            "\n",
            "Do you want to play again? (yes/no): no\n"
          ]
        }
      ]
    },
    {
      "cell_type": "code",
      "source": [],
      "metadata": {
        "id": "s9lqcP9kpLu4"
      },
      "execution_count": 31,
      "outputs": []
    }
  ]
}